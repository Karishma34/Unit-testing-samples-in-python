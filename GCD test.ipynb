{
 "cells": [
  {
   "cell_type": "code",
   "execution_count": 1,
   "metadata": {},
   "outputs": [
    {
     "name": "stderr",
     "output_type": "stream",
     "text": [
      "test_GCD (__main__.TestsForGCD) ... ok\n",
      "test_GCD_negative_value (__main__.TestsForGCD) ... ok\n",
      "test_GCD_zero_test (__main__.TestsForGCD) ... ok\n",
      "\n",
      "----------------------------------------------------------------------\n",
      "Ran 3 tests in 0.004s\n",
      "\n",
      "OK\n"
     ]
    },
    {
     "data": {
      "text/plain": [
       "<unittest.main.TestProgram at 0x2678895f160>"
      ]
     },
     "execution_count": 1,
     "metadata": {},
     "output_type": "execute_result"
    }
   ],
   "source": [
    "import unittest\n",
    "import snakestat\n",
    "\n",
    "class TestsForGCD(unittest.TestCase):\n",
    "    def test_GCD(self):\n",
    "        a = 6\n",
    "        b = 20\n",
    "        res = snakestat.findGCD(a,b)\n",
    "        self.assertEqual(res, 2.0)\n",
    "    def test_GCD_zero_test(self):\n",
    "        a = 6\n",
    "        b = 0\n",
    "        res = snakestat.findGCD(a,b)\n",
    "        self.assertEqual(res, 6.0)\n",
    "    def test_GCD_negative_value(self):\n",
    "        a = 30\n",
    "        b = -15\n",
    "        res = snakestat.findGCD(a,b)\n",
    "        self.assertEqual(res, 15)\n",
    "unittest.main(argv=['ignored', '-v'], exit=False)"
   ]
  },
  {
   "cell_type": "markdown",
   "metadata": {},
   "source": [
    "## "
   ]
  },
  {
   "cell_type": "code",
   "execution_count": null,
   "metadata": {},
   "outputs": [],
   "source": []
  }
 ],
 "metadata": {
  "kernelspec": {
   "display_name": "Python 3",
   "language": "python",
   "name": "python3"
  },
  "language_info": {
   "codemirror_mode": {
    "name": "ipython",
    "version": 3
   },
   "file_extension": ".py",
   "mimetype": "text/x-python",
   "name": "python",
   "nbconvert_exporter": "python",
   "pygments_lexer": "ipython3",
   "version": "3.8.5"
  }
 },
 "nbformat": 4,
 "nbformat_minor": 4
}
