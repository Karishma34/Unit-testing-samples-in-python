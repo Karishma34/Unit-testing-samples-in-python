{
 "cells": [
  {
   "cell_type": "code",
   "execution_count": 1,
   "metadata": {},
   "outputs": [
    {
     "name": "stderr",
     "output_type": "stream",
     "text": [
      "test_Median_even (__main__.TestsForSnakeStat) ... ok\n",
      "test_Median_odd (__main__.TestsForSnakeStat) ... ok\n",
      "test_Median_unordered (__main__.TestsForSnakeStat) ... ok\n",
      "\n",
      "----------------------------------------------------------------------\n",
      "Ran 3 tests in 0.003s\n",
      "\n",
      "OK\n"
     ]
    },
    {
     "data": {
      "text/plain": [
       "<unittest.main.TestProgram at 0x1ccf2cb6400>"
      ]
     },
     "execution_count": 1,
     "metadata": {},
     "output_type": "execute_result"
    }
   ],
   "source": [
    "import unittest\n",
    "import snakestat\n",
    "\n",
    "\n",
    "list_1 = [1,2,3,4,5,6,7]\n",
    "list_2 = [1,2,3,4,5,6]\n",
    "list_4 = [4,6,8,20,10,3]\n",
    "class TestsForSnakeStat(unittest.TestCase):\n",
    "    def test_Median_odd(self):\n",
    "        res = snakestat.median(list_1)\n",
    "        self.assertEqual(res, 4)\n",
    "    def test_Median_even(self):\n",
    "        res = snakestat.median(list_2)\n",
    "        self.assertEqual(res, 3.5)\n",
    "    def test_Median_unordered(self):\n",
    "        res = snakestat.median(list_4)\n",
    "        self.assertEqual(res, 7.0)\n",
    "unittest.main(argv=['ignored', '-v'], exit=False)"
   ]
  },
  {
   "cell_type": "code",
   "execution_count": null,
   "metadata": {},
   "outputs": [],
   "source": []
  }
 ],
 "metadata": {
  "kernelspec": {
   "display_name": "Python 3",
   "language": "python",
   "name": "python3"
  },
  "language_info": {
   "codemirror_mode": {
    "name": "ipython",
    "version": 3
   },
   "file_extension": ".py",
   "mimetype": "text/x-python",
   "name": "python",
   "nbconvert_exporter": "python",
   "pygments_lexer": "ipython3",
   "version": "3.8.5"
  }
 },
 "nbformat": 4,
 "nbformat_minor": 4
}
