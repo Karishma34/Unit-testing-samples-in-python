{
 "cells": [
  {
   "cell_type": "code",
   "execution_count": 1,
   "metadata": {},
   "outputs": [
    {
     "name": "stderr",
     "output_type": "stream",
     "text": [
      "test_stdev (__main__.TestsForSnakeStat) ... ok\n",
      "test_stdev_length (__main__.TestsForSnakeStat) ... ok\n",
      "test_stdev_length_empty (__main__.TestsForSnakeStat) ... ok\n",
      "\n",
      "----------------------------------------------------------------------\n",
      "Ran 3 tests in 0.003s\n",
      "\n",
      "OK\n"
     ]
    },
    {
     "data": {
      "text/plain": [
       "<unittest.main.TestProgram at 0x1feab907af0>"
      ]
     },
     "execution_count": 1,
     "metadata": {},
     "output_type": "execute_result"
    }
   ],
   "source": [
    "import unittest\n",
    "import snakestat\n",
    "import statistics\n",
    "num_list = []\n",
    "num_list_1 = [3,4,5,6,7]\n",
    "num_list_2 = [4,5,6]\n",
    "\n",
    "\n",
    "class TestsForSnakeStat(unittest.TestCase):\n",
    "\n",
    "    def test_stdev(self):\n",
    "        stdev = snakestat.sdev(num_list_1)\n",
    "        stdev = round(stdev,2)\n",
    "        self.assertEqual(stdev, 1.41)\n",
    "    def test_stdev_length(self):\n",
    "        stdev = snakestat.sdev(num_list_2)\n",
    "        stdev = round(stdev,2)\n",
    "        self.assertEqual(stdev, 0.82)\n",
    "    def test_stdev_length_empty(self):\n",
    "        stdev = snakestat.sdev(num_list)\n",
    "        stdev = round(stdev,2)\n",
    "        self.assertEqual(stdev, 0)\n",
    "unittest.main(argv=['ignored', '-v'], exit=False)\n"
   ]
  },
  {
   "cell_type": "code",
   "execution_count": null,
   "metadata": {},
   "outputs": [],
   "source": []
  }
 ],
 "metadata": {
  "kernelspec": {
   "display_name": "Python 3",
   "language": "python",
   "name": "python3"
  },
  "language_info": {
   "codemirror_mode": {
    "name": "ipython",
    "version": 3
   },
   "file_extension": ".py",
   "mimetype": "text/x-python",
   "name": "python",
   "nbconvert_exporter": "python",
   "pygments_lexer": "ipython3",
   "version": "3.8.5"
  }
 },
 "nbformat": 4,
 "nbformat_minor": 4
}
